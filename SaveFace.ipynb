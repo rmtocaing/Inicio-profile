{
 "cells": [
  {
   "cell_type": "markdown",
   "metadata": {},
   "source": [
    "# Guardar rostros de una imagen utilizando libreria de CSV"
   ]
  },
  {
   "cell_type": "markdown",
   "metadata": {},
   "source": [
    " *Ejemplo de codigo para guardar rostros partiendo de una imagen de analisis utilizando Haar Cascades y Open CV*"
   ]
  },
  {
   "cell_type": "code",
   "execution_count": null,
   "metadata": {},
   "outputs": [],
   "source": []
  }
 ],
 "metadata": {
  "kernelspec": {
   "display_name": ".venv",
   "language": "python",
   "name": "python3"
  },
  "language_info": {
   "name": "python",
   "version": "3.12.4"
  }
 },
 "nbformat": 4,
 "nbformat_minor": 2
}

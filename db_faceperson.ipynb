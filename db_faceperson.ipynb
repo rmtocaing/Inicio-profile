{
 "cells": [
  {
   "cell_type": "markdown",
   "metadata": {},
   "source": [
    "# Crear base de datos de rostros usando CVS"
   ]
  },
  {
   "cell_type": "markdown",
   "metadata": {},
   "source": [
    "*En este ejemplo creamos una base de datos de rostros que se obtendran a partir de un video*"
   ]
  },
  {
   "cell_type": "markdown",
   "metadata": {},
   "source": [
    "1. *Iniciamos Importando las librerias de OpenCV, os e imutils, asi como crearemos una carpeta con el nombre de la persona que se desea reconocer, esta se creará dentro de la carpeta **Data** que se debe crear previamente de forma manual, observando que en **personName** se asigará el nombre de la persona que se capturara la imagen y se asigna a **dataPath** la ubicación del directorio donde se creará cada carpeta con el nombre de cada persona a reconocer. Finalmente personPath será la ruta completa.*"
   ]
  },
  {
   "cell_type": "code",
   "execution_count": null,
   "metadata": {},
   "outputs": [],
   "source": [
    "import cv2 \n",
    "import os \n",
    "!pip imutils install\n",
    "#import imutils\n",
    "\n",
    "personName = 'Ruben'\n",
    "dataPath = 'C:/Users/Ruben Tocain/OneDrive - MSFT/Dataset_Maestria/data'#Cambia a la ruta donde hayas almacenado Data\n",
    "personPath = dataPath + '/' + personName\n",
    "\n",
    "if not os.path.exists(personPath):\n",
    "    print('Carpeta creada: ',personPath)\n",
    "    os.makedirs(personPath)\n"
   ]
  },
  {
   "cell_type": "markdown",
   "metadata": {},
   "source": [
    "2. *Indicamos que vamos a realizar un video en directo o como tambien indicar que leeremos un video. Puedes usar cualquiera de estas dos líneas para poder capturar los rostros*"
   ]
  },
  {
   "cell_type": "code",
   "execution_count": 30,
   "metadata": {},
   "outputs": [],
   "source": [
    "cap = cv2.VideoCapture(0,cv2.CAP_DSHOW)\n",
    "#cap = cv2.VideoCapture('Video.mp4')\n",
    "\n",
    "faceClassif = cv2.CascadeClassifier(cv2.data.haarcascades+'haarcascade_frontalface_default.xml')\n",
    "count = 0"
   ]
  },
  {
   "cell_type": "markdown",
   "metadata": {},
   "source": [
    "3. *Se redimensiona con imutils.resize esto de redimensionar el tamaño de los fotogramas es para el video de entrada.*"
   ]
  },
  {
   "cell_type": "code",
   "execution_count": 31,
   "metadata": {},
   "outputs": [],
   "source": [
    "while True:\n",
    "    \n",
    "    ret, frame = cap.read()\n",
    "    if ret == False: break\n",
    "    frame =  imutils.resize(frame, width=640)\n",
    "    gray = cv2.cvtColor(frame, cv2.COLOR_BGR2GRAY)\n",
    "    auxFrame = frame.copy()\n",
    "\n",
    "    #faces = faceClassif.detectMultiScale(gray,1.3,5)\n"
   ]
  },
  {
   "cell_type": "markdown",
   "metadata": {},
   "source": [
    "4. *Se está redimensionando las imágenes correspondientes a los rostros para que todos posean el mismo tamaño. Yo he elegido 150 pixeles, pero podrías hacerlo con otro valor.* Tambien se añade el contador para que capture el numero de imagenes deseado para el ejemplo sera 250"
   ]
  },
  {
   "cell_type": "code",
   "execution_count": 35,
   "metadata": {},
   "outputs": [
    {
     "ename": "NameError",
     "evalue": "name 'gray' is not defined",
     "output_type": "error",
     "traceback": [
      "\u001b[1;31m---------------------------------------------------------------------------\u001b[0m",
      "\u001b[1;31mNameError\u001b[0m                                 Traceback (most recent call last)",
      "Cell \u001b[1;32mIn[35], line 1\u001b[0m\n\u001b[1;32m----> 1\u001b[0m faces \u001b[38;5;241m=\u001b[39m faceClassif\u001b[38;5;241m.\u001b[39mdetectMultiScale(\u001b[43mgray\u001b[49m,\u001b[38;5;241m1.3\u001b[39m,\u001b[38;5;241m5\u001b[39m)\n\u001b[0;32m      3\u001b[0m \u001b[38;5;28;01mfor\u001b[39;00m (x,y,w,h) \u001b[38;5;129;01min\u001b[39;00m faces:\n\u001b[0;32m      4\u001b[0m     cv2\u001b[38;5;241m.\u001b[39mrectangle(frame, (x,y),(x\u001b[38;5;241m+\u001b[39mw,y\u001b[38;5;241m+\u001b[39mh),(\u001b[38;5;241m0\u001b[39m,\u001b[38;5;241m255\u001b[39m,\u001b[38;5;241m0\u001b[39m),\u001b[38;5;241m2\u001b[39m)\n",
      "\u001b[1;31mNameError\u001b[0m: name 'gray' is not defined"
     ]
    }
   ],
   "source": [
    "faces = faceClassif.detectMultiScale(gray,1.3,5)\n",
    "\n",
    "for (x,y,w,h) in faces:\n",
    "    cv2.rectangle(frame, (x,y),(x+w,y+h),(0,255,0),2)\n",
    "    rostro = auxFrame[y:y+h,x:x+w]\n",
    "    rostro = cv2.resize(rostro,(150,150),interpolation=cv2.INTER_CUBIC)\n",
    "    cv2.imwrite(personPath + '/rotro_{}.jpg'.format(count),rostro)\n",
    "    count = count + 1\n",
    "    cv2.imshow('frame',frame)\n",
    "\n",
    "    k =  cv2.waitKey(1)\n",
    "    if k == 27 or count >= 300:\n",
    "        break\n",
    "\n",
    "cap.release()\n",
    "cv2.destroyAllWindows()\n"
   ]
  }
 ],
 "metadata": {
  "kernelspec": {
   "display_name": ".venv",
   "language": "python",
   "name": "python3"
  },
  "language_info": {
   "codemirror_mode": {
    "name": "ipython",
    "version": 3
   },
   "file_extension": ".py",
   "mimetype": "text/x-python",
   "name": "python",
   "nbconvert_exporter": "python",
   "pygments_lexer": "ipython3",
   "version": "3.12.4"
  }
 },
 "nbformat": 4,
 "nbformat_minor": 2
}
